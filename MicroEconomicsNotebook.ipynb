{
 "cells": [
  {
   "cell_type": "markdown",
   "id": "ruled-parker",
   "metadata": {},
   "source": [
    "#### Interactive Introduction to MicroEconomics\n",
    "\n",
    "This interactive textbook was created as a reasource to learn concepts of microeconomics through interative graphs and activities. This should not be used as a standalone textbook, but rather should be used in conjunction with another published microeconomics textbook. This text will only touch upon the more visual concepts, as theory will be more accurately explained in an official textbook.\n",
    "\n",
    "Tyler Cowen's Principles of MicroEconomics can be found in a pdf version online, and was used as a main source for this project: Cowen, Tyler, and Alexander Tabarrok. Modern Principles: Microeconomics. Worth Publishers, 2021. \n",
    "\n",
    "Course contents:\n",
    "\n",
    "- 1. Consumer Theory\n",
    "    * Supply and Demand\n",
    "    * Equilibrium\n",
    "    * Elasticity\n",
    "    * Taxes and Subsidies\n",
    "\n",
    "\n",
    "- 2. Production and Costs\n",
    "    * Price Ceilings and Floors\n",
    "    * Externalities\n",
    "    \n",
    "\n",
    "- 3. Competitive Markets\n",
    "   * Profit maximization under competition\n",
    "\n",
    "\n",
    "\n",
    "- 4. Monopoly Markets\n",
    "\n",
    "\n",
    "\n",
    "- 5. Game Theory\n"
   ]
  },
  {
   "cell_type": "code",
   "execution_count": 2,
   "id": "czech-impact",
   "metadata": {},
   "outputs": [],
   "source": [
    "import numpy as np\n",
    "import matplotlib.pyplot as plt\n",
    "from ipywidgets import interactive\n",
    "from ipywidgets import interact\n",
    "import pandas as pd\n",
    "import ipywidgets as widgets\n",
    "from IPython.display import display\n",
    "%matplotlib inline\n",
    "\n"
   ]
  },
  {
   "cell_type": "markdown",
   "id": "confidential-magazine",
   "metadata": {},
   "source": [
    "# 1.1 Supply and Demand\n",
    "\n",
    "The most important tools in economics are supply, demand, and the concept of equilibrium. The basis of economics uses this vocabulary and without it you will understand little else. In this section we will use the most basic of graphs to explain the concepts of supply and demand. Next we will continue on to use supply, demand, and exquilibrium to explain how prices are determined. \n",
    "\n",
    "## The Demand Curve\n",
    "\n",
    "Demand Curve: A demand curve is a function that shows the quantity demanded at different prices.\n",
    "\n",
    "\n",
    "Graph showing quantity demanded by price level\n",
    "\n",
    "Consumer Surplus: The consumer's gain from exchange, or the difference between the maximum price a consumer is willing to pay for a certain quantity and the market price. \n",
    "\n",
    "Total Consumer Surplus: measure by the area beneath the demand curve and above the price\n"
   ]
  },
  {
   "cell_type": "code",
   "execution_count": 2,
   "id": "ongoing-eagle",
   "metadata": {},
   "outputs": [
    {
     "data": {
      "application/vnd.jupyter.widget-view+json": {
       "model_id": "cf3e652ce0ac4a2f83fd274281606c4f",
       "version_major": 2,
       "version_minor": 0
      },
      "text/plain": [
       "interactive(children=(IntSlider(value=0, description='a', max=50, min=-50, step=10), Output(layout=Layout(heig…"
      ]
     },
     "metadata": {},
     "output_type": "display_data"
    }
   ],
   "source": [
    "def plot_func(a):\n",
    "    plt.figure(3)\n",
    "   \n",
    "    d = np.linspace(0, 100, num=100)\n",
    "    q = 100 - d \n",
    "    plt.axvline(x = (100+a)/2, color = 'grey', label = 'axvline - full height')\n",
    "    plt.axhline(y=(100-a)/2, color = 'grey', label = 'axvline - full height')\n",
    "    plt.plot(d,q)\n",
    "    \n",
    "    \n",
    "    qd=(100+a)/2\n",
    "    price=((100-a)/2)\n",
    " \n",
    "    \n",
    "    plt.fill_between(d,q,(100-a)/2, color='#ffcc99',where = d< (100+a)/2)\n",
    "    plt.ylim(0, 100)\n",
    "    plt.xlim(0, 100)\n",
    "    plt.title('Consumer Surplus')\n",
    "    plt.xlabel('Quantity Demand')\n",
    "    plt.ylabel('Price')\n",
    "    plt.text(60,80,'Price: '+str(price))\n",
    "    plt.text(60,70,'Quantity Demand: '+str(qd))\n",
    "    plt.show()\n",
    "    \n",
    "    \n",
    "    \n",
    "    \n",
    "interactive_plot = interactive(plot_func, a=(-50,50,10))\n",
    "output = interactive_plot.children[-1]\n",
    "output.layout.height = '300px'\n",
    "interactive_plot "
   ]
  },
  {
   "cell_type": "code",
   "execution_count": null,
   "id": "fitting-launch",
   "metadata": {},
   "outputs": [],
   "source": []
  },
  {
   "cell_type": "markdown",
   "id": "destroyed-sculpture",
   "metadata": {},
   "source": [
    "By moving the slider (a) we can see how the price changes as the quantity demanded change. We can also see how consumer surplus increases as price changes. \n",
    "\n",
    "Question: If price is set at (40), what is the size or area of consumer surplus? \n",
    "\n",
    "Area of a Triangle = (B*H)/2"
   ]
  },
  {
   "cell_type": "code",
   "execution_count": 5,
   "id": "protective-incidence",
   "metadata": {},
   "outputs": [
    {
     "data": {
      "application/vnd.jupyter.widget-view+json": {
       "model_id": "21586e404bd348558348b2f49b62cc1e",
       "version_major": 2,
       "version_minor": 0
      },
      "text/plain": [
       "RadioButtons(description='Options', layout=Layout(width='max-content'), options=('1000', '1200', '1400', '1600…"
      ]
     },
     "metadata": {},
     "output_type": "display_data"
    }
   ],
   "source": [
    "widgets.RadioButtons(\n",
    "    options=['1000', '1200', '1400','1600'],\n",
    "#    value='pineapple', # Defaults to 'pineapple'\n",
    "    layout={'width': 'max-content'}, # If the items' names are long\n",
    "    description='Options',\n",
    "    disabled=False\n",
    ")\n",
    "\n"
   ]
  },
  {
   "cell_type": "code",
   "execution_count": 7,
   "id": "considerable-diversity",
   "metadata": {},
   "outputs": [
    {
     "data": {
      "application/vnd.jupyter.widget-view+json": {
       "model_id": "dc0f3fb3215b40d5b1bfcc03c28a7d48",
       "version_major": 2,
       "version_minor": 0
      },
      "text/plain": [
       "Combobox(value='', description='Answer:', ensure_option=True, options=('1200',), placeholder='Reveal')"
      ]
     },
     "metadata": {},
     "output_type": "display_data"
    }
   ],
   "source": [
    "widgets.Combobox(\n",
    "    # value='John',\n",
    "    placeholder='Reveal',\n",
    "    options=['1200'],\n",
    "    description='Answer:',\n",
    "    ensure_option=True,\n",
    "    disabled=False\n",
    ")"
   ]
  },
  {
   "cell_type": "markdown",
   "id": "drawn-terminology",
   "metadata": {},
   "source": [
    "## What Shifts the Demand Curve?\n",
    "\n",
    "Lets say the maximum willingness to pay for a product increases by some amount, this can be illustrated as an increase in demand. An increase in demand shifts the demand curve outward, up and to the right.\n",
    "\n",
    "- Important Demand Shifters: \n",
    "    * Income\n",
    "    * Population\n",
    "    * Price of substitutes\n",
    "    * Price of complements\n",
    "    * Expectations\n",
    "    * Tastes\n",
    "\n",
    "The question to keep in mind is, \"What would make people willing to buy a greater quantity at the same price?\"\n",
    "\n",
    "Normal Good: a good for which demand increases when income increases. \n",
    "\n",
    "Most goods are normal, when income rises, people consume more of most goods ie. cars, electronics, and restaurant meals. However some good do not neccessarily behave in this manner. For example, ramen noodles is a good that is consumed by college students to save money. When a college student graduates and finally gets a job, they will likely stop consuming ramen noodles. "
   ]
  },
  {
   "cell_type": "code",
   "execution_count": 3,
   "id": "sacred-morrison",
   "metadata": {},
   "outputs": [
    {
     "data": {
      "application/vnd.jupyter.widget-view+json": {
       "model_id": "48b2ba22858e4dc78e1725bdfdd2be36",
       "version_major": 2,
       "version_minor": 0
      },
      "text/plain": [
       "interactive(children=(IntSlider(value=0, description='a', max=50, min=-50, step=10), Output(layout=Layout(heig…"
      ]
     },
     "metadata": {},
     "output_type": "display_data"
    }
   ],
   "source": [
    "def plot_func(a):\n",
    "    plt.figure(3)\n",
    "   \n",
    "    d = np.linspace(0, 100, num=100)\n",
    "    q = 100 + a - d \n",
    "    #plt.axvline(x = (100+a)/2, color = 'grey', label = 'axvline - full height')\n",
    "    plt.axhline(y=100/2, color = 'grey', label = 'axvline - full height')\n",
    "    plt.plot(d,q)\n",
    "    \n",
    "    \n",
    "    qd=(100+a*2)/2\n",
    "    price=((100)/2)\n",
    " \n",
    "    \n",
    "    plt.fill_between(d,q,100/2, color='#ffcc99',where = d< (100+a*2)/2)\n",
    "    plt.ylim(0, 100)\n",
    "    plt.xlim(0, 100)\n",
    "    plt.title('Consumer Surplus')\n",
    "    plt.xlabel('Quantity Demand')\n",
    "    plt.ylabel('Price')\n",
    "    plt.text(60,80,'Price: '+str(price))\n",
    "    plt.text(60,70,'Quantity Demand: '+str(qd))\n",
    "    plt.show()\n",
    "    \n",
    "    \n",
    "    \n",
    "    \n",
    "interactive_plot = interactive(plot_func, a=(-50,50,10))\n",
    "output = interactive_plot.children[-1]\n",
    "output.layout.height = '300px'\n",
    "interactive_plot "
   ]
  },
  {
   "cell_type": "markdown",
   "id": "alone-reminder",
   "metadata": {},
   "source": [
    "\n",
    "\n",
    "Question: Which of the following situations would be demonstrated by shifting the demand curve to the right?"
   ]
  },
  {
   "cell_type": "code",
   "execution_count": 9,
   "id": "medieval-latest",
   "metadata": {},
   "outputs": [
    {
     "data": {
      "application/vnd.jupyter.widget-view+json": {
       "model_id": "3973f7493f374e588d5873c0f14e7331",
       "version_major": 2,
       "version_minor": 0
      },
      "text/plain": [
       "RadioButtons(description='Options', layout=Layout(width='max-content'), options=('Technological improvement', …"
      ]
     },
     "metadata": {},
     "output_type": "display_data"
    }
   ],
   "source": [
    "widgets.RadioButtons(\n",
    "    options=['Technological improvement', 'Cost of inputs decrease', 'The price of oil rises','Economy does extremely well'],\n",
    "#    value='pineapple', # Defaults to 'pineapple'\n",
    "    layout={'width': 'max-content'}, # If the items' names are long\n",
    "    description='Options',\n",
    "    disabled=False\n",
    ")\n",
    "\n"
   ]
  },
  {
   "cell_type": "code",
   "execution_count": 10,
   "id": "virtual-stereo",
   "metadata": {},
   "outputs": [
    {
     "data": {
      "application/vnd.jupyter.widget-view+json": {
       "model_id": "d6d3a66de91a471f97bcd2e841d85214",
       "version_major": 2,
       "version_minor": 0
      },
      "text/plain": [
       "Combobox(value='', description='Answer:', ensure_option=True, options=('Economy does extremely well',), placeh…"
      ]
     },
     "metadata": {},
     "output_type": "display_data"
    }
   ],
   "source": [
    "widgets.Combobox(\n",
    "    # value='John',\n",
    "    placeholder='Reveal',\n",
    "    options=['Economy does extremely well'],\n",
    "    description='Answer:',\n",
    "    ensure_option=True,\n",
    "    disabled=False\n",
    ")"
   ]
  },
  {
   "cell_type": "markdown",
   "id": "turned-remove",
   "metadata": {},
   "source": [
    "## The Supply Curve\n",
    "\n",
    "* The Supply Curve: A function that shows the quantity supplied at different prices.\n",
    "\n",
    "\n",
    "* Quantity Supplied: The amount of a good that sellers are willing and able to sell at a particular price\n",
    "\n",
    "\n",
    "* Producer's Surplus: The producer's gain from exchange, or the difference between the market price and the minimum price at which a producer would be willing to sell a particular quantity.\n",
    "\n",
    "\n",
    "* Total Produce Surplus: Measured by the area above the supply curve and below the price.\n",
    "\n"
   ]
  },
  {
   "cell_type": "code",
   "execution_count": 11,
   "id": "tracked-attraction",
   "metadata": {},
   "outputs": [
    {
     "data": {
      "application/vnd.jupyter.widget-view+json": {
       "model_id": "cac16f6f12ba45468977ba6645be4031",
       "version_major": 2,
       "version_minor": 0
      },
      "text/plain": [
       "interactive(children=(IntSlider(value=100, description='a', max=200, step=20), Output(layout=Layout(height='30…"
      ]
     },
     "metadata": {},
     "output_type": "display_data"
    }
   ],
   "source": [
    "def plot_func(a):\n",
    "    plt.figure(3)\n",
    "   \n",
    "    d = np.linspace(0, 100, num=100)\n",
    "    q = d*2\n",
    "    plt.axvline(x = (a)/2, color = 'grey', label = 'axvline - full height')\n",
    "    plt.axhline(y=(a*2)/2, color = 'grey', label = 'axvline - full height')\n",
    "    plt.plot(d,q)\n",
    "    \n",
    "    \n",
    "    qd=(a)/2\n",
    "    price=((a*2)/2)\n",
    " \n",
    "    \n",
    "    #plt.fill_between(d,q,(100-a)/2, color='#ffcc99',where = d< (100+a)/2)\n",
    "    plt.ylim(0, 200)\n",
    "    plt.xlim(0, 100)\n",
    "    plt.title('Supply Curve')\n",
    "    plt.xlabel('Quantity Supply')\n",
    "    plt.ylabel('Price')\n",
    "    plt.text(10,160,'Price: '+str(price))\n",
    "    plt.text(10,140,'Quantity Supply: '+str(qd))\n",
    "    plt.show()\n",
    "    \n",
    "    \n",
    "    \n",
    "    \n",
    "interactive_plot = interactive(plot_func, a=(0,200,20))\n",
    "output = interactive_plot.children[-1]\n",
    "output.layout.height = '300px'\n",
    "interactive_plot"
   ]
  },
  {
   "cell_type": "markdown",
   "id": "textile-trader",
   "metadata": {},
   "source": [
    "Question: If people demand a quantity of a good equal to 60 units, what is the cost to supply this quantity?\n"
   ]
  },
  {
   "cell_type": "code",
   "execution_count": 12,
   "id": "catholic-valley",
   "metadata": {},
   "outputs": [
    {
     "data": {
      "application/vnd.jupyter.widget-view+json": {
       "model_id": "7f487922981b4d558f867be529cf15c4",
       "version_major": 2,
       "version_minor": 0
      },
      "text/plain": [
       "RadioButtons(description='Options:', layout=Layout(width='max-content'), options=('120', '140', '160', '80'), …"
      ]
     },
     "metadata": {},
     "output_type": "display_data"
    }
   ],
   "source": [
    "widgets.RadioButtons(\n",
    "    options=['120', '140', '160','80'],\n",
    "#    value='pineapple', # Defaults to 'pineapple'\n",
    "    layout={'width': 'max-content'}, # If the items' names are long\n",
    "    description='Options:',\n",
    "    disabled=False\n",
    ")\n",
    "\n"
   ]
  },
  {
   "cell_type": "code",
   "execution_count": 13,
   "id": "spanish-bulgarian",
   "metadata": {},
   "outputs": [
    {
     "data": {
      "application/vnd.jupyter.widget-view+json": {
       "model_id": "28fad6bd140541438a308103f07a2ed8",
       "version_major": 2,
       "version_minor": 0
      },
      "text/plain": [
       "Combobox(value='', description='Answer:', ensure_option=True, options=('120',), placeholder='Reveal')"
      ]
     },
     "metadata": {},
     "output_type": "display_data"
    }
   ],
   "source": [
    "widgets.Combobox(\n",
    "    # value='John',\n",
    "    placeholder='Reveal',\n",
    "    options=['120'],\n",
    "    description='Answer:',\n",
    "    ensure_option=True,\n",
    "    disabled=False\n",
    ")"
   ]
  },
  {
   "cell_type": "markdown",
   "id": "atmospheric-administration",
   "metadata": {},
   "source": [
    "# What Shifts the Supply Curve\n",
    "\n",
    "- Important Supply Shifters:\n",
    "* Technological innovations and changes in the price of inputs\n",
    "* Taxes and subsidies\n",
    "* Expectations\n",
    "* Entry or exit of producers\n",
    "* Changes in opportunity costs"
   ]
  },
  {
   "cell_type": "code",
   "execution_count": 31,
   "id": "changed-bruce",
   "metadata": {},
   "outputs": [
    {
     "data": {
      "application/vnd.jupyter.widget-view+json": {
       "model_id": "77eee637a214403eb867aa01d3a2022d",
       "version_major": 2,
       "version_minor": 0
      },
      "text/plain": [
       "interactive(children=(IntSlider(value=50, description='a', step=10), Output(layout=Layout(height='300px'))), _…"
      ]
     },
     "metadata": {},
     "output_type": "display_data"
    }
   ],
   "source": [
    "def plot_func(a):\n",
    "    plt.figure(3)\n",
    "   \n",
    "    d = np.linspace(0, 100, num=100)\n",
    "    q =50 - a + d \n",
    "    #plt.axvline(x = (100+a)/2, color = 'grey', label = 'axvline - full height')\n",
    "    plt.axhline(y=100/2, color = 'grey', label = 'axvline - full height')\n",
    "    plt.plot(d,q)\n",
    "    \n",
    "    \n",
    "    qs=(a*2)/2\n",
    "    price=((100)/2)\n",
    " \n",
    "    \n",
    "    plt.fill_between(d,q,100/2, color='#9999ff',where = d< (a))\n",
    "    plt.ylim(0, 100)\n",
    "    plt.xlim(0, 100)\n",
    "    plt.title('Producer Surplus')\n",
    "    plt.xlabel('Quantity Supply')\n",
    "    plt.ylabel('Price')\n",
    "    plt.text(20,80,'Price: '+str(price))\n",
    "    plt.text(20,70,'Quantity Supply: '+str(qs))\n",
    "    plt.show()\n",
    "    \n",
    "    \n",
    "    \n",
    "    \n",
    "interactive_plot = interactive(plot_func, a=(0,100,10))\n",
    "output = interactive_plot.children[-1]\n",
    "output.layout.height = '300px'\n",
    "interactive_plot "
   ]
  },
  {
   "cell_type": "markdown",
   "id": "african-horizontal",
   "metadata": {},
   "source": [
    "Question: Which of these scenarios would increase producer surplus (shift supply curve to the right)"
   ]
  },
  {
   "cell_type": "code",
   "execution_count": 32,
   "id": "after-pleasure",
   "metadata": {},
   "outputs": [
    {
     "data": {
      "application/vnd.jupyter.widget-view+json": {
       "model_id": "1ea103055b084019ba37464ff5603021",
       "version_major": 2,
       "version_minor": 0
      },
      "text/plain": [
       "RadioButtons(description='Options:', layout=Layout(width='max-content'), options=('People start spending more …"
      ]
     },
     "metadata": {},
     "output_type": "display_data"
    }
   ],
   "source": [
    "widgets.RadioButtons(\n",
    "    options=['People start spending more than normal', 'Oil is scarce', 'Technological improvement increases efficiency','President bans exports'],\n",
    "    layout={'width': 'max-content'}, # If the items' names are long\n",
    "    description='Options:',\n",
    "    disabled=False\n",
    ")\n",
    "\n"
   ]
  },
  {
   "cell_type": "code",
   "execution_count": 33,
   "id": "behavioral-essence",
   "metadata": {},
   "outputs": [
    {
     "data": {
      "application/vnd.jupyter.widget-view+json": {
       "model_id": "f5696dae12ad4af886a0b52855a9dcbd",
       "version_major": 2,
       "version_minor": 0
      },
      "text/plain": [
       "Combobox(value='', description='Answer:', ensure_option=True, options=('Technological improvement increases ef…"
      ]
     },
     "metadata": {},
     "output_type": "display_data"
    }
   ],
   "source": [
    "widgets.Combobox(\n",
    "    # value='John',\n",
    "    placeholder='Reveal',\n",
    "    options=['Technological improvement increases efficiency'],\n",
    "    description='Answer:',\n",
    "    ensure_option=True,\n",
    "    disabled=False\n",
    ")\n",
    "\n"
   ]
  },
  {
   "cell_type": "markdown",
   "id": "waiting-monitoring",
   "metadata": {},
   "source": [
    "### How supply and demand determine price\n",
    "\n",
    "Supply and demand work together to determine what is called \"Equilibrium.\" Equilibrium only occurs when quantity demanded equals quantity supplied as shown below. We can also see both consumer and producer surpluses modeled simultaneously. Because bothe supply and demand curves have the same \"Slope\" , consumer surplus and producer surplus will remain equal even if the curves are shifted. This is not usually the case in the real world, and is determined by what is called \"Elasticity\" which is covered in the next section.\n",
    "\n"
   ]
  },
  {
   "cell_type": "code",
   "execution_count": 1,
   "id": "minus-seventh",
   "metadata": {
    "scrolled": true
   },
   "outputs": [
    {
     "ename": "NameError",
     "evalue": "name 'interactive' is not defined",
     "output_type": "error",
     "traceback": [
      "\u001b[0;31m---------------------------------------------------------------------------\u001b[0m",
      "\u001b[0;31mNameError\u001b[0m                                 Traceback (most recent call last)",
      "\u001b[0;32m<ipython-input-1-7f5777beb845>\u001b[0m in \u001b[0;36m<module>\u001b[0;34m\u001b[0m\n\u001b[1;32m     25\u001b[0m \u001b[0;34m\u001b[0m\u001b[0m\n\u001b[1;32m     26\u001b[0m \u001b[0;34m\u001b[0m\u001b[0m\n\u001b[0;32m---> 27\u001b[0;31m \u001b[0minteractive_plot\u001b[0m \u001b[0;34m=\u001b[0m \u001b[0minteractive\u001b[0m\u001b[0;34m(\u001b[0m\u001b[0mplot_func\u001b[0m\u001b[0;34m,\u001b[0m \u001b[0ma\u001b[0m\u001b[0;34m=\u001b[0m\u001b[0;34m(\u001b[0m\u001b[0;34m-\u001b[0m\u001b[0;36m20\u001b[0m\u001b[0;34m,\u001b[0m\u001b[0;36m20\u001b[0m\u001b[0;34m,\u001b[0m\u001b[0;36m10\u001b[0m\u001b[0;34m)\u001b[0m\u001b[0;34m,\u001b[0m \u001b[0mf\u001b[0m\u001b[0;34m=\u001b[0m\u001b[0;34m(\u001b[0m\u001b[0;34m-\u001b[0m\u001b[0;36m20\u001b[0m\u001b[0;34m,\u001b[0m \u001b[0;36m20\u001b[0m\u001b[0;34m,\u001b[0m \u001b[0;36m10\u001b[0m\u001b[0;34m)\u001b[0m\u001b[0;34m)\u001b[0m\u001b[0;34m\u001b[0m\u001b[0;34m\u001b[0m\u001b[0m\n\u001b[0m\u001b[1;32m     28\u001b[0m \u001b[0moutput\u001b[0m \u001b[0;34m=\u001b[0m \u001b[0minteractive_plot\u001b[0m\u001b[0;34m.\u001b[0m\u001b[0mchildren\u001b[0m\u001b[0;34m[\u001b[0m\u001b[0;34m-\u001b[0m\u001b[0;36m1\u001b[0m\u001b[0;34m]\u001b[0m\u001b[0;34m\u001b[0m\u001b[0;34m\u001b[0m\u001b[0m\n\u001b[1;32m     29\u001b[0m \u001b[0moutput\u001b[0m\u001b[0;34m.\u001b[0m\u001b[0mlayout\u001b[0m\u001b[0;34m.\u001b[0m\u001b[0mheight\u001b[0m \u001b[0;34m=\u001b[0m \u001b[0;34m'300px'\u001b[0m\u001b[0;34m\u001b[0m\u001b[0;34m\u001b[0m\u001b[0m\n",
      "\u001b[0;31mNameError\u001b[0m: name 'interactive' is not defined"
     ]
    }
   ],
   "source": [
    "def plot_func(a, f):\n",
    "    plt.figure(3)\n",
    "    s = np.linspace(0, 100, num=100)\n",
    "    y =s + a\n",
    "    d = np.linspace(0, 100, num=100)\n",
    "    q = 100 - d + f\n",
    "    plt.axvline(x = (100+f-a)/2, color = 'grey', label = 'axvline - full height')\n",
    "    plt.axhline(y=(100+f+a)/2, color = 'grey', label = 'axvline - full height')\n",
    "    plt.plot(s,y)\n",
    "    \n",
    "    plt.fill_between(s,y,(100+f+a)/2, color='#9999ff',where = s< (100+f-a)/2)\n",
    "    plt.fill_between(s,q,(100+f+a)/2, color='#ffcc99',where = s< (100+f-a)/2)\n",
    "    \n",
    "    \n",
    "    plt.plot(d,q)\n",
    "    plt.ylim(0, 100)\n",
    "    plt.xlim(0, 100)\n",
    "    plt.title('Equilibrium')\n",
    "    \n",
    "    plt.text(5,60,'Consumer Surplus')\n",
    "    plt.text(5,40,'Producer surplus')\n",
    "    plt.show()\n",
    "    \n",
    "    \n",
    "    \n",
    "    \n",
    "interactive_plot = interactive(plot_func, a=(-20,20,10), f=(-20, 20, 10))\n",
    "output = interactive_plot.children[-1]\n",
    "output.layout.height = '300px'\n",
    "interactive_plot"
   ]
  },
  {
   "cell_type": "markdown",
   "id": "third-billy",
   "metadata": {},
   "source": [
    "If supply and demand lines are correctly estimated, equilibirum will naturally be achieved by price pressure to either rise or decline based on \"shortages\" or \"surpluses.\" Imagine you are the producer of a good. Suddenly people become disinterested in your product and demand less of your product. This will cause the price according to the demand curve, to increase. At that same price level, according to the supply curve, quantity supplied is much larger than before. This situation is a \"surplus.\" When this occurs it puts downward pressure on price to adjust back to equilibrium. In this case we as the producer would have a \"sale\" to increase quantity demanded.\n",
    "\n",
    "Surplus: When quantity supplied is greater than quantity demanded at a given market price.\n",
    "\n",
    "The opposite can be true when people demand more of you product. In this situation the quantity demanded exceedss the quantity supplied at a given price. This situation can be modeled as a \"shortage.\" When a shortage occurs, the becomes upward pressure on price, causeing price to rise to adjust back to equilibrium. \n",
    "\n",
    "Shortage: When quantity demanded is greater than quantity supplied\n",
    "\n",
    "We can model what this looks like by changing the price level and observing the amount which is a surpluses or shortages with the slider (a)\n"
   ]
  },
  {
   "cell_type": "code",
   "execution_count": 81,
   "id": "divine-vietnamese",
   "metadata": {},
   "outputs": [
    {
     "data": {
      "application/vnd.jupyter.widget-view+json": {
       "model_id": "16238ccbcd764a26aea84dfcd1dc51c3",
       "version_major": 2,
       "version_minor": 0
      },
      "text/plain": [
       "interactive(children=(IntSlider(value=0, description='a', max=50, min=-50, step=10), Output(layout=Layout(heig…"
      ]
     },
     "metadata": {},
     "output_type": "display_data"
    }
   ],
   "source": [
    "\n",
    "def plot_func(a):\n",
    "    plt.figure(3)\n",
    "    s = np.linspace(0, 100, num=100)\n",
    "    y =s \n",
    "    d = np.linspace(0, 100, num=100)\n",
    "    q = 100 - d \n",
    "    #plt.axvline(x = (100)/2, color = 'grey', label = 'axvline - full height')\n",
    "    plt.axhline(y=(100+a)/2, color = 'grey', label = 'axvline - full height')\n",
    "    plt.plot(s,y)\n",
    "    \n",
    "    #plt.fill_between(s,y,(100+a)/2, color='#9999ff',where = s< (100+a)/2 )\n",
    "#     plt.fill_between(s,q,(100+f+a)/2, color='#ffcc99',where = s< (100+f-a)/2)\n",
    "    \n",
    "    \n",
    "    plt.plot(q,d)\n",
    "    plt.ylim(0, 100)\n",
    "    plt.xlim(0, 100)\n",
    "    plt.title('Equilibrium')\n",
    "    \n",
    "    plt.text(50,80,'Surplus: '+str(a))\n",
    "    plt.text(50,20,'Shortage: '+str(-a))\n",
    "    plt.show()\n",
    "    \n",
    "    \n",
    "    \n",
    "    \n",
    "interactive_plot = interactive(plot_func, a=(-50,50,10))\n",
    "output = interactive_plot.children[-1]\n",
    "output.layout.height = '300px'\n",
    "interactive_plot"
   ]
  },
  {
   "cell_type": "markdown",
   "id": "ancient-consensus",
   "metadata": {},
   "source": [
    "Question: If market price becomes (30), what is the amount of the shortage?"
   ]
  },
  {
   "cell_type": "code",
   "execution_count": null,
   "id": "widespread-parade",
   "metadata": {},
   "outputs": [],
   "source": [
    "widgets.RadioButtons(\n",
    "    options=['20', '30', '40','50'],\n",
    "    layout={'width': 'max-content'}, # If the items' names are long\n",
    "    description='Options:',\n",
    "    disabled=False\n",
    ")\n",
    "\n"
   ]
  },
  {
   "cell_type": "code",
   "execution_count": 82,
   "id": "documented-passport",
   "metadata": {},
   "outputs": [
    {
     "data": {
      "application/vnd.jupyter.widget-view+json": {
       "model_id": "73e023353e0040fca2a9ffca2fef9ab1",
       "version_major": 2,
       "version_minor": 0
      },
      "text/plain": [
       "Combobox(value='', description='Answer:', ensure_option=True, options=('30',), placeholder='Reveal')"
      ]
     },
     "metadata": {},
     "output_type": "display_data"
    }
   ],
   "source": [
    "widgets.Combobox(\n",
    "    # value='John',\n",
    "    placeholder='Reveal',\n",
    "    options=['30'],\n",
    "    description='Answer:',\n",
    "    ensure_option=True,\n",
    "    disabled=False\n",
    ")\n",
    "\n"
   ]
  },
  {
   "cell_type": "markdown",
   "id": "handmade-citizen",
   "metadata": {},
   "source": [
    "2.5 Monopoly Markets Overview \n",
    "\n",
    "After reading this chapter, you should be able to find marginal revenue given\n",
    "either a demand curve or a table of prices and quantities (as in Figure 13.1).\n",
    "Given a demand and marginal cost curve, you should be able to find and label the\n",
    "monopoly price, the monopoly quantity, and deadweight loss. With the addition\n",
    "of an average cost curve, you should be able to find and label monopoly profit.\n",
    "You should also be able to demonstrate why the markup of price over marginal\n",
    "cost is larger the more inelastic the demand—this relationship will also be useful\n",
    "in the next chapter.\n"
   ]
  },
  {
   "cell_type": "markdown",
   "id": "aquatic-operations",
   "metadata": {},
   "source": []
  },
  {
   "cell_type": "code",
   "execution_count": 16,
   "id": "thrown-relative",
   "metadata": {},
   "outputs": [
    {
     "data": {
      "application/vnd.jupyter.widget-view+json": {
       "model_id": "570da93dd0b840adb336bfa3515d2021",
       "version_major": 2,
       "version_minor": 0
      },
      "text/plain": [
       "interactive(children=(IntSlider(value=0, description='a', max=20, min=-20, step=10), IntSlider(value=0, descri…"
      ]
     },
     "metadata": {},
     "output_type": "display_data"
    }
   ],
   "source": [
    "\n",
    "def plot_func(a, f):\n",
    "    plt.figure(1)\n",
    "    s = np.linspace(0, 100, num=100) # 0-100 for variable s\n",
    "    y = 100 - s + f                 ## int is 100 and for every increase in s y goes down 1 slope -1, plus slider f\n",
    "    d = np.linspace(0, 100, num=100)\n",
    "    q = d + a\n",
    "    \n",
    "    mr = np.linspace(0, 100, num=100)\n",
    "    \n",
    "    m = 100 - 2 * s + f\n",
    "    \n",
    "    \n",
    "    \n",
    "    plt.axvline(x = (100+f-a)/3, ymax = (100-(100-2*f-a)/3)/100,color = '#cccccc', label = 'axvline - full height')\n",
    "    plt.axhline(y=(100+f+a*2)/3, xmax = ((100+f-a)/3)/100, color = '#cccccc', label = 'axvline - full height')\n",
    "    plt.axhline(y=(100-(100-2*f-a)/3),xmax = ((100+f-a)/3)/100, color = '#cccccc', label = 'axvline - full height')\n",
    "    \n",
    "    plt.plot(s,y,color='blue')\n",
    "    \n",
    "    plt.plot(d,q,color='orange')\n",
    "    \n",
    "    plt.plot(mr,m,color='green')\n",
    " \n",
    "    plt.fill_between(s,y,(100-(100-2*f-a)/3), color='yellow',where = s < (100+f-a)/3)\n",
    "    \n",
    "    plt.fill_between(s,(100+f+a*2)/3,(100-(100-2*f-a)/3), color='blue',where = s < (100+f-a)/3)\n",
    "    \n",
    "    plt.ylim(0, 100)\n",
    "    plt.xlim(0, 100)\n",
    "    plt.title('Monopoly Market')\n",
    "    plt.show()\n",
    "    \n",
    "    \n",
    "    \n",
    "interactive_plot = interactive(plot_func, a=(-20,20,10), f=(-20, 20, 10))\n",
    "output = interactive_plot.children[-1]\n",
    "output.layout.height = '500px'\n",
    "interactive_plot"
   ]
  },
  {
   "cell_type": "markdown",
   "id": "manual-morgan",
   "metadata": {},
   "source": [
    "Shifting Demand\n",
    "\n",
    "The demand curve "
   ]
  },
  {
   "cell_type": "code",
   "execution_count": null,
   "id": "brilliant-louisiana",
   "metadata": {},
   "outputs": [],
   "source": []
  },
  {
   "cell_type": "code",
   "execution_count": null,
   "id": "disabled-charm",
   "metadata": {},
   "outputs": [],
   "source": []
  }
 ],
 "metadata": {
  "kernelspec": {
   "display_name": "Python 3",
   "language": "python",
   "name": "python3"
  },
  "language_info": {
   "codemirror_mode": {
    "name": "ipython",
    "version": 3
   },
   "file_extension": ".py",
   "mimetype": "text/x-python",
   "name": "python",
   "nbconvert_exporter": "python",
   "pygments_lexer": "ipython3",
   "version": "3.8.5"
  }
 },
 "nbformat": 4,
 "nbformat_minor": 5
}
