{
 "cells": [
  {
   "cell_type": "markdown",
   "id": "ruled-parker",
   "metadata": {},
   "source": [
    "# Interactive Introduction to MicroEconomics\n",
    "\n",
    "This interactive textbook was created as a reasource to learn concepts of microeconomics through interative graphs and activities. This should not be used as a standalone textbook, but rather should be used in conjunction with another published microeconomics textbook. This text will only touch upon the more visual concepts, as theory will be more accurately explained in an official textbook.\n",
    "\n",
    "Course contents:\n",
    "\n",
    "1 - Consumer Theory\n",
    "    Supply and Demand\n",
    "    Equilibrium\n",
    "    Elasticity\n",
    "    Taxes and Subsidies\n",
    "\n",
    "2 - Production and Costs\n",
    "    Price Ceilings and Floors\n",
    "    Externalities\n",
    "    \n",
    "\n",
    "3 - Competitive Markets\n",
    "    Profit maximization under competition\n",
    "\n",
    "4 - Monopoly Markets\n",
    "\n",
    "5 - Game Theory\n"
   ]
  },
  {
   "cell_type": "code",
   "execution_count": 2,
   "id": "czech-impact",
   "metadata": {},
   "outputs": [],
   "source": [
    "import numpy as np\n",
    "import matplotlib.pyplot as plt\n",
    "from ipywidgets import interactive\n",
    "from ipywidgets import interact\n",
    "import pandas as pd\n",
    "%matplotlib inline\n"
   ]
  },
  {
   "cell_type": "markdown",
   "id": "confidential-magazine",
   "metadata": {},
   "source": [
    "# 1.1 Supply and Demand\n",
    "\n",
    "The most important tools in economics are supply, demand, and the concept of equilibrium. The basis of economics uses this vocabulary and without it you will understand little else. In this section we will use the most basic of graphs to explain the concepts of supply and demand. Next we will continue on to use supply, demand, and exquilibrium to explain how prices are determined. \n",
    "\n",
    "Demand Curve: Ademand curve is a function that shows the quantity demanded at different prices.\n",
    "\n",
    "\n",
    "    "
   ]
  },
  {
   "cell_type": "code",
   "execution_count": 3,
   "id": "tracked-attraction",
   "metadata": {},
   "outputs": [
    {
     "data": {
      "application/vnd.jupyter.widget-view+json": {
       "model_id": "000b9a4eab294594900322ba64d90860",
       "version_major": 2,
       "version_minor": 0
      },
      "text/plain": [
       "interactive(children=(IntSlider(value=0, description='a', max=20, min=-20, step=10), IntSlider(value=0, descri…"
      ]
     },
     "metadata": {},
     "output_type": "display_data"
    }
   ],
   "source": [
    "def plot_func(a, f):\n",
    "    plt.figure(3)\n",
    "    s = np.linspace(0, 100, num=100)\n",
    "    y =s + a\n",
    "    d = np.linspace(0, 100, num=100)\n",
    "    q = 100 - d + f\n",
    "    plt.axvline(x = (100+f-a)/2, color = 'grey', label = 'axvline - full height')\n",
    "    plt.axhline(y=(100+f+a)/2, color = 'grey', label = 'axvline - full height')\n",
    "    plt.plot(s,y)\n",
    "    \n",
    "    plt.fill_between(s,y,(100+f+a)/2, color='#9999ff',where = s< (100+f-a)/2)\n",
    "    plt.fill_between(s,q,(100+f+a)/2, color='#ffcc99',where = s< (100+f-a)/2)\n",
    "    \n",
    "    \n",
    "    plt.plot(d,q)\n",
    "    plt.ylim(0, 100)\n",
    "    plt.xlim(0, 100)\n",
    "    plt.title('a sin(f)')\n",
    "    \n",
    "    plt.show()\n",
    "    \n",
    "    \n",
    "    \n",
    "    \n",
    "interactive_plot = interactive(plot_func, a=(-20,20,10), f=(-20, 20, 10))\n",
    "output = interactive_plot.children[-1]\n",
    "output.layout.height = '500px'\n",
    "interactive_plot"
   ]
  },
  {
   "cell_type": "markdown",
   "id": "handmade-citizen",
   "metadata": {},
   "source": [
    "2.5 Monopoly Markets Overview \n",
    "\n",
    "After reading this chapter, you should be able to find marginal revenue given\n",
    "either a demand curve or a table of prices and quantities (as in Figure 13.1).\n",
    "Given a demand and marginal cost curve, you should be able to find and label the\n",
    "monopoly price, the monopoly quantity, and deadweight loss. With the addition\n",
    "of an average cost curve, you should be able to find and label monopoly profit.\n",
    "You should also be able to demonstrate why the markup of price over marginal\n",
    "cost is larger the more inelastic the demand—this relationship will also be useful\n",
    "in the next chapter.\n"
   ]
  },
  {
   "cell_type": "code",
   "execution_count": null,
   "id": "responsible-appointment",
   "metadata": {},
   "outputs": [],
   "source": []
  },
  {
   "cell_type": "code",
   "execution_count": 4,
   "id": "thrown-relative",
   "metadata": {},
   "outputs": [
    {
     "data": {
      "application/vnd.jupyter.widget-view+json": {
       "model_id": "b053d21bb930433495c7e60b4ccbdeb5",
       "version_major": 2,
       "version_minor": 0
      },
      "text/plain": [
       "interactive(children=(IntSlider(value=0, description='a', max=20, min=-20, step=10), IntSlider(value=0, descri…"
      ]
     },
     "metadata": {},
     "output_type": "display_data"
    }
   ],
   "source": [
    "\n",
    "def plot_func(a, f):\n",
    "    plt.figure(1)\n",
    "    s = np.linspace(0, 100, num=100) # 0-100 for variable s\n",
    "    y = 100 - s + f                 ## int is 100 and for every increase in s y goes down 1 slope -1, plus slider f\n",
    "    d = np.linspace(0, 100, num=100)\n",
    "    q = d + a\n",
    "    \n",
    "    mr = np.linspace(0, 100, num=100)\n",
    "    \n",
    "    m = 100 - 2 * s + f\n",
    "    \n",
    "    \n",
    "    \n",
    "    plt.axvline(x = (100+f-a)/3, ymax = (100-(100-2*f-a)/3)/100,color = '#cccccc', label = 'axvline - full height')\n",
    "    plt.axhline(y=(100+f+a*2)/3, xmax = ((100+f-a)/3)/100, color = '#cccccc', label = 'axvline - full height')\n",
    "    plt.axhline(y=(100-(100-2*f-a)/3),xmax = ((100+f-a)/3)/100, color = '#cccccc', label = 'axvline - full height')\n",
    "    \n",
    "    plt.plot(s,y,color='blue')\n",
    "    \n",
    "    plt.plot(d,q,color='orange')\n",
    "    \n",
    "    plt.plot(mr,m,color='green')\n",
    " \n",
    "    plt.fill_between(s,y,(100-(100-2*f-a)/3), color='yellow',where = s < (100+f-a)/3)\n",
    "    \n",
    "    plt.fill_between(s,(100+f+a*2)/3,(100-(100-2*f-a)/3), color='blue',where = s < (100+f-a)/3)\n",
    "    \n",
    "    plt.ylim(0, 100)\n",
    "    plt.xlim(0, 100)\n",
    "    plt.title('Monopoly Market')\n",
    "    plt.show()\n",
    "    \n",
    "    \n",
    "    \n",
    "interactive_plot = interactive(plot_func, a=(-20,20,10), f=(-20, 20, 10))\n",
    "output = interactive_plot.children[-1]\n",
    "output.layout.height = '500px'\n",
    "interactive_plot"
   ]
  },
  {
   "cell_type": "markdown",
   "id": "manual-morgan",
   "metadata": {},
   "source": [
    "Shifting Demand\n",
    "\n",
    "The demand curve "
   ]
  },
  {
   "cell_type": "code",
   "execution_count": null,
   "id": "brilliant-louisiana",
   "metadata": {},
   "outputs": [],
   "source": []
  },
  {
   "cell_type": "code",
   "execution_count": null,
   "id": "disabled-charm",
   "metadata": {},
   "outputs": [],
   "source": []
  }
 ],
 "metadata": {
  "kernelspec": {
   "display_name": "Python 3",
   "language": "python",
   "name": "python3"
  },
  "language_info": {
   "codemirror_mode": {
    "name": "ipython",
    "version": 3
   },
   "file_extension": ".py",
   "mimetype": "text/x-python",
   "name": "python",
   "nbconvert_exporter": "python",
   "pygments_lexer": "ipython3",
   "version": "3.8.5"
  }
 },
 "nbformat": 4,
 "nbformat_minor": 5
}
