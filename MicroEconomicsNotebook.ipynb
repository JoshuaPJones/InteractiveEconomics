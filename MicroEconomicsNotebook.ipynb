{
 "cells": [
  {
   "cell_type": "markdown",
   "id": "ruled-parker",
   "metadata": {},
   "source": [
    "# Interactive Introduction to MicroEconomics\n",
    "\n",
    "This interactive textbook was created as a reasource to learn concepts of microeconomics through interative graphs and activities. This should not be used as a standalone textbook, but rather should be used in conjunction with another published microeconomics textbook. This text will only touch upon the more visual concepts, as theory will be more accurately explained in an official textbook.\n",
    "\n",
    "Course contents:\n",
    "\n",
    "1. Consumer Theory\n",
    "    * Supply and Demand\n",
    "    * Equilibrium\n",
    "    * Elasticity\n",
    "    * Taxes and Subsidies\n",
    "\n",
    "\n",
    "2. Production and Costs\n",
    "    * Price Ceilings and Floors\n",
    "    * Externalities\n",
    "    \n",
    "\n",
    "3. Competitive Markets\n",
    "   * Profit maximization under competition\n",
    "\n",
    "\n",
    "\n",
    "4. Monopoly Markets\n",
    "\n",
    "\n",
    "\n",
    "5. Game Theory\n"
   ]
  },
  {
   "cell_type": "code",
   "execution_count": 7,
   "id": "czech-impact",
   "metadata": {},
   "outputs": [],
   "source": [
    "import numpy as np\n",
    "import matplotlib.pyplot as plt\n",
    "from ipywidgets import interactive\n",
    "from ipywidgets import interact\n",
    "import pandas as pd\n",
    "import ipywidgets as widgets\n",
    "%matplotlib inline\n"
   ]
  },
  {
   "cell_type": "markdown",
   "id": "confidential-magazine",
   "metadata": {},
   "source": [
    "# 1.1 Supply and Demand\n",
    "\n",
    "The most important tools in economics are supply, demand, and the concept of equilibrium. The basis of economics uses this vocabulary and without it you will understand little else. In this section we will use the most basic of graphs to explain the concepts of supply and demand. Next we will continue on to use supply, demand, and exquilibrium to explain how prices are determined. \n",
    "\n",
    "## The Demand Curve\n",
    "\n",
    "Demand Curve: A demand curve is a function that shows the quantity demanded at different prices.\n",
    "\n",
    "\n",
    "Graph showing quantity demanded by price level\n",
    "\n",
    "Consumer Surplus: The consumer's gain from exchange, or the difference between the maximum price a consumer is willing to pay for a certain quantity and the market price. \n",
    "\n",
    "Total Consumer Surplus: measure by the area beneath the demand curve and above the price\n"
   ]
  },
  {
   "cell_type": "code",
   "execution_count": 8,
   "id": "ongoing-eagle",
   "metadata": {},
   "outputs": [
    {
     "data": {
      "application/vnd.jupyter.widget-view+json": {
       "model_id": "310fc4973ca0484786706d83e2574dd2",
       "version_major": 2,
       "version_minor": 0
      },
      "text/plain": [
       "interactive(children=(IntSlider(value=0, description='a', max=50, min=-50, step=10), Output(layout=Layout(heig…"
      ]
     },
     "metadata": {},
     "output_type": "display_data"
    }
   ],
   "source": [
    "def plot_func(a):\n",
    "    plt.figure(3)\n",
    "   \n",
    "    d = np.linspace(0, 100, num=100)\n",
    "    q = 100 - d \n",
    "    plt.axvline(x = (100+a)/2, color = 'grey', label = 'axvline - full height')\n",
    "    plt.axhline(y=(100-a)/2, color = 'grey', label = 'axvline - full height')\n",
    "    plt.plot(d,q)\n",
    "    \n",
    "    \n",
    "    qd=(100+a)/2\n",
    "    price=((100-a)/2)\n",
    " \n",
    "    \n",
    "    plt.fill_between(d,q,(100-a)/2, color='#ffcc99',where = d< (100+a)/2)\n",
    "    plt.ylim(0, 100)\n",
    "    plt.xlim(0, 100)\n",
    "    plt.title('Consumer Surplus')\n",
    "    plt.xlabel('Quantity Demand')\n",
    "    plt.ylabel('Price')\n",
    "    plt.text(60,80,'Price: '+str(price))\n",
    "    plt.text(60,70,'Quantity Demand: '+str(qd))\n",
    "    plt.show()\n",
    "    \n",
    "    \n",
    "    \n",
    "    \n",
    "interactive_plot = interactive(plot_func, a=(-50,50,10))\n",
    "output = interactive_plot.children[-1]\n",
    "output.layout.height = '300px'\n",
    "interactive_plot "
   ]
  },
  {
   "cell_type": "markdown",
   "id": "drawn-terminology",
   "metadata": {},
   "source": [
    "## What Shifts the Demand Curve?\n",
    "\n",
    "Lets say the maximum willingness to pay for a product increases by some amount, this can be illustrated as an increase in demand. An increase in demand shifts the demand curve outward, up and to the right.\n",
    "\n",
    "Important Demand Shifters: \n",
    "-Income\n",
    "-Population\n",
    "-Price of substitutes\n",
    "-Price of complements\n",
    "-Expectations\n",
    "-Tastes\n",
    "\n",
    "The question to keep in mind is, \"What would make people willing to buy a greater quantity at the same price?\"\n",
    "\n",
    "Normal Good: a good for which demand increases when income increases. \n",
    "\n",
    "Most goods are normal, when income rises, people consume more of most goods ie. cars, electronics, and restaurant meals. However some good dont neccessarily behave in this manner. For example, ramen noodles is a good that is consumed by college students to save money. When a college student graduates and finally gets a job, they will likely stop consuming ramen noodles. "
   ]
  },
  {
   "cell_type": "code",
   "execution_count": 12,
   "id": "sacred-morrison",
   "metadata": {},
   "outputs": [
    {
     "data": {
      "application/vnd.jupyter.widget-view+json": {
       "model_id": "4489494cac4c41d3ac2dea3072385a4f",
       "version_major": 2,
       "version_minor": 0
      },
      "text/plain": [
       "interactive(children=(IntSlider(value=0, description='a', max=50, min=-50, step=10), Output(layout=Layout(heig…"
      ]
     },
     "metadata": {},
     "output_type": "display_data"
    }
   ],
   "source": [
    "def plot_func(a):\n",
    "    plt.figure(3)\n",
    "   \n",
    "    d = np.linspace(0, 100, num=100)\n",
    "    q = 100 - d \n",
    "    plt.axvline(x = (100+a)/2, color = 'grey', label = 'axvline - full height')\n",
    "    plt.axhline(y=(100-a)/2, color = 'grey', label = 'axvline - full height')\n",
    "    plt.plot(d,q)\n",
    "    \n",
    "    \n",
    "    qd=(100+a)/2\n",
    "    price=((100-a)/2)\n",
    " \n",
    "    \n",
    "    plt.fill_between(d,q,(100-a)/2, color='#ffcc99',where = d< (100+a)/2)\n",
    "    plt.ylim(0, 100)\n",
    "    plt.xlim(0, 100)\n",
    "    plt.title('Consumer Surplus')\n",
    "    plt.xlabel('Quantity Demand')\n",
    "    plt.ylabel('Price')\n",
    "    plt.text(60,80,'Price: '+str(price))\n",
    "    plt.text(60,70,'Quantity Demand: '+str(qd))\n",
    "    plt.show()\n",
    "    \n",
    "    \n",
    "    \n",
    "    \n",
    "interactive_plot = interactive(plot_func, a=(-50,50,10))\n",
    "output = interactive_plot.children[-1]\n",
    "output.layout.height = '300px'\n",
    "interactive_plot "
   ]
  },
  {
   "cell_type": "code",
   "execution_count": 25,
   "id": "virtual-stereo",
   "metadata": {},
   "outputs": [
    {
     "data": {
      "application/vnd.jupyter.widget-view+json": {
       "model_id": "72760b27e1a9405393e8fccb1256f13e",
       "version_major": 2,
       "version_minor": 0
      },
      "text/plain": [
       "interactive(children=(IntSlider(value=0, description='a', max=20, min=-20, step=10), IntSlider(value=0, descri…"
      ]
     },
     "metadata": {},
     "output_type": "display_data"
    }
   ],
   "source": [
    "def plot_func(a, f):\n",
    "    plt.figure(3)\n",
    "    s = np.linspace(0, 100, num=100)\n",
    "    y =s + a\n",
    "    d = np.linspace(0, 100, num=100)\n",
    "    q = 100 - d + f\n",
    "    plt.axvline(x = (100+f-a)/2, color = 'grey', label = 'axvline - full height')\n",
    "    plt.axhline(y=(100+f+a)/2, color = 'grey', label = 'axvline - full height')\n",
    "    plt.plot(s,y)\n",
    "    \n",
    "    plt.fill_between(s,y,(100+f+a)/2, color='#9999ff',where = s< (100+f-a)/2)\n",
    "    plt.fill_between(s,q,(100+f+a)/2, color='#ffcc99',where = s< (100+f-a)/2)\n",
    "    \n",
    "    \n",
    "    plt.plot(d,q)\n",
    "    plt.ylim(0, 100)\n",
    "    plt.xlim(0, 100)\n",
    "    plt.title('a sin(f)')\n",
    "    \n",
    "    \n",
    "    plt.show()\n",
    "    \n",
    "    \n",
    "    \n",
    "    \n",
    "interactive_plot = interactive(plot_func, a=(-20,20,10), f=(-20, 20, 10))\n",
    "output = interactive_plot.children[-1]\n",
    "output.layout.height = '300px'\n",
    "interactive_plot"
   ]
  },
  {
   "cell_type": "markdown",
   "id": "turned-remove",
   "metadata": {},
   "source": [
    "## The Supply Curve\n",
    "\n",
    "* The Supply Curve: A function that shows the quantity supplied at different prices.\n",
    "\n",
    "\n",
    "* Quantity Supplied: The amount of a good that sellers are willing and able to sell at a particular price\n",
    "\n",
    "\n",
    "* Producer's Surplus: The producer's gain from exchange, or the difference between the market price and the minimum price at which a producer would be willing to sell a particular quantity.\n",
    "\n",
    "\n",
    "* Total Produce Surplus: Measured by the area above the supply curve and below the price.\n",
    "\n"
   ]
  },
  {
   "cell_type": "code",
   "execution_count": 24,
   "id": "tracked-attraction",
   "metadata": {},
   "outputs": [
    {
     "data": {
      "application/vnd.jupyter.widget-view+json": {
       "model_id": "1275198ebeac42ec93ea448b041266c0",
       "version_major": 2,
       "version_minor": 0
      },
      "text/plain": [
       "interactive(children=(IntSlider(value=100, description='a', max=200, step=20), Output(layout=Layout(height='30…"
      ]
     },
     "metadata": {},
     "output_type": "display_data"
    }
   ],
   "source": [
    "def plot_func(a):\n",
    "    plt.figure(3)\n",
    "   \n",
    "    d = np.linspace(0, 100, num=100)\n",
    "    q = d \n",
    "    plt.axvline(x = (a)/2, color = 'grey', label = 'axvline - full height')\n",
    "    plt.axhline(y=(a)/2, color = 'grey', label = 'axvline - full height')\n",
    "    plt.plot(d,q)\n",
    "    \n",
    "    \n",
    "    qd=(a)/2\n",
    "    price=((a)/2)\n",
    " \n",
    "    \n",
    "    #plt.fill_between(d,q,(100-a)/2, color='#ffcc99',where = d< (100+a)/2)\n",
    "    plt.ylim(0, 100)\n",
    "    plt.xlim(0, 100)\n",
    "    plt.title('Supply Curve')\n",
    "    plt.xlabel('Quantity Demand')\n",
    "    plt.ylabel('Price')\n",
    "    plt.text(10,80,'Price: '+str(price))\n",
    "    plt.text(10,70,'Quantity Supply: '+str(qd))\n",
    "    plt.show()\n",
    "    \n",
    "    \n",
    "    \n",
    "    \n",
    "interactive_plot = interactive(plot_func, a=(0,200,20))\n",
    "output = interactive_plot.children[-1]\n",
    "output.layout.height = '300px'\n",
    "interactive_plot"
   ]
  },
  {
   "cell_type": "markdown",
   "id": "atmospheric-administration",
   "metadata": {},
   "source": [
    "# What Shifts the Supply Curve\n",
    "\n",
    "- Important Supply Shifters:\n",
    "* Technological innovations and changes in the price of inputs\n",
    "* Taxes and subsidies\n",
    "* Expectations\n",
    "* Entry or exit of producers\n",
    "* Changes in opportunity costs"
   ]
  },
  {
   "cell_type": "code",
   "execution_count": null,
   "id": "changed-bruce",
   "metadata": {},
   "outputs": [],
   "source": []
  },
  {
   "cell_type": "markdown",
   "id": "handmade-citizen",
   "metadata": {},
   "source": [
    "2.5 Monopoly Markets Overview \n",
    "\n",
    "After reading this chapter, you should be able to find marginal revenue given\n",
    "either a demand curve or a table of prices and quantities (as in Figure 13.1).\n",
    "Given a demand and marginal cost curve, you should be able to find and label the\n",
    "monopoly price, the monopoly quantity, and deadweight loss. With the addition\n",
    "of an average cost curve, you should be able to find and label monopoly profit.\n",
    "You should also be able to demonstrate why the markup of price over marginal\n",
    "cost is larger the more inelastic the demand—this relationship will also be useful\n",
    "in the next chapter.\n"
   ]
  },
  {
   "cell_type": "code",
   "execution_count": null,
   "id": "responsible-appointment",
   "metadata": {},
   "outputs": [],
   "source": []
  },
  {
   "cell_type": "code",
   "execution_count": 11,
   "id": "thrown-relative",
   "metadata": {},
   "outputs": [
    {
     "data": {
      "application/vnd.jupyter.widget-view+json": {
       "model_id": "fa986b4956d04df6955528a5bf98fe62",
       "version_major": 2,
       "version_minor": 0
      },
      "text/plain": [
       "interactive(children=(IntSlider(value=0, description='a', max=20, min=-20, step=10), IntSlider(value=0, descri…"
      ]
     },
     "metadata": {},
     "output_type": "display_data"
    }
   ],
   "source": [
    "\n",
    "def plot_func(a, f):\n",
    "    plt.figure(1)\n",
    "    s = np.linspace(0, 100, num=100) # 0-100 for variable s\n",
    "    y = 100 - s + f                 ## int is 100 and for every increase in s y goes down 1 slope -1, plus slider f\n",
    "    d = np.linspace(0, 100, num=100)\n",
    "    q = d + a\n",
    "    \n",
    "    mr = np.linspace(0, 100, num=100)\n",
    "    \n",
    "    m = 100 - 2 * s + f\n",
    "    \n",
    "    \n",
    "    \n",
    "    plt.axvline(x = (100+f-a)/3, ymax = (100-(100-2*f-a)/3)/100,color = '#cccccc', label = 'axvline - full height')\n",
    "    plt.axhline(y=(100+f+a*2)/3, xmax = ((100+f-a)/3)/100, color = '#cccccc', label = 'axvline - full height')\n",
    "    plt.axhline(y=(100-(100-2*f-a)/3),xmax = ((100+f-a)/3)/100, color = '#cccccc', label = 'axvline - full height')\n",
    "    \n",
    "    plt.plot(s,y,color='blue')\n",
    "    \n",
    "    plt.plot(d,q,color='orange')\n",
    "    \n",
    "    plt.plot(mr,m,color='green')\n",
    " \n",
    "    plt.fill_between(s,y,(100-(100-2*f-a)/3), color='yellow',where = s < (100+f-a)/3)\n",
    "    \n",
    "    plt.fill_between(s,(100+f+a*2)/3,(100-(100-2*f-a)/3), color='blue',where = s < (100+f-a)/3)\n",
    "    \n",
    "    plt.ylim(0, 100)\n",
    "    plt.xlim(0, 100)\n",
    "    plt.title('Monopoly Market')\n",
    "    plt.show()\n",
    "    \n",
    "    \n",
    "    \n",
    "interactive_plot = interactive(plot_func, a=(-20,20,10), f=(-20, 20, 10))\n",
    "output = interactive_plot.children[-1]\n",
    "output.layout.height = '500px'\n",
    "interactive_plot"
   ]
  },
  {
   "cell_type": "markdown",
   "id": "manual-morgan",
   "metadata": {},
   "source": [
    "Shifting Demand\n",
    "\n",
    "The demand curve "
   ]
  },
  {
   "cell_type": "code",
   "execution_count": null,
   "id": "brilliant-louisiana",
   "metadata": {},
   "outputs": [],
   "source": []
  },
  {
   "cell_type": "code",
   "execution_count": null,
   "id": "disabled-charm",
   "metadata": {},
   "outputs": [],
   "source": []
  }
 ],
 "metadata": {
  "kernelspec": {
   "display_name": "Python 3",
   "language": "python",
   "name": "python3"
  },
  "language_info": {
   "codemirror_mode": {
    "name": "ipython",
    "version": 3
   },
   "file_extension": ".py",
   "mimetype": "text/x-python",
   "name": "python",
   "nbconvert_exporter": "python",
   "pygments_lexer": "ipython3",
   "version": "3.8.5"
  },
  "voila": {
   "theme": "dark"
  }
 },
 "nbformat": 4,
 "nbformat_minor": 5
}
